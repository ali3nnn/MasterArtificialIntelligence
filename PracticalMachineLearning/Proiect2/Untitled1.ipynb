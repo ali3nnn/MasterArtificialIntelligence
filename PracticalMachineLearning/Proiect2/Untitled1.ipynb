{
 "cells": [
  {
   "cell_type": "code",
   "execution_count": null,
   "metadata": {},
   "outputs": [],
   "source": "import pymc3 as pm"
  },
  {
   "cell_type": "code",
   "execution_count": null,
   "metadata": {},
   "outputs": [],
   "source": "with pm.Model() as my_model:\n    # X = pm.distributions.discrete.DiscreteUniform(lower = 0, upper = 5)\n    X = pm.Categorical(\"X\", p = [0.1, 0.1, 0.1, 0.2, 0.2, 0.3])"
  },
  {
   "cell_type": "code",
   "execution_count": null,
   "metadata": {},
   "outputs": [],
   "source": "print(my_model)"
  },
  {
   "cell_type": "code",
   "execution_count": null,
   "metadata": {},
   "outputs": [],
   "source": "with pm.Model() as my_model:\n    discrete_rv = pm.DiscreteUniform('discrete_rv', lower=0, upper=1)\n    step = pm.Metropolis()\n    trace = pm.sample(10000, step=step)\n    pm.traceplot(trace)\n    plt.show()"
  },
  {
   "cell_type": "code",
   "execution_count": 31,
   "metadata": {},
   "outputs": [
    {
     "name": "stdout",
     "output_type": "stream",
     "text": "[[ 0 28]\n [ 1 72]]\n[1 1 1 1 0 1 1 1 1 1 0 1 1 1 0 0 1 1 1 1 0 1 1 1 0 1 1 1 1 1 1 1 0 0 1 1 0\n 0 1 1 0 0 0 1 0 1 1 1 0 1 1 1 0 1 1 1 0 1 1 0 0 1 1 0 1 1 1 1 1 1 1 1 1 1\n 1 1 0 1 1 1 0 1 1 1 0 1 1 1 0 1 0 1 1 1 1 0 0 0 1 1]\n"
    }
   ],
   "source": "import pymc as pm\nimport numpy as np\nimport matplotlib.pyplot as plt\ntrue_coin_bias = 0.3 # The (unknown) bias of the coin\nnum_flips = 100\n# The given data, the result of 100 coin flips\ndata = np.random.choice([1, 0], p=[1-true_coin_bias, true_coin_bias], size=num_flips)\nunique, counts = np.unique(data, return_counts=True)\n\nprint(np.asarray((unique, counts)).T)\nprint(data)"
  },
  {
   "cell_type": "code",
   "execution_count": 34,
   "metadata": {},
   "outputs": [],
   "source": "# We want to infer the bias, p. Since p is unknown, it is a random variable.\n# The distribution we assign to it here is our prior distribution on p, uniform on the range [0, 1].\np = pm.Uniform(\"p\", lower=0, upper=1)"
  },
  {
   "cell_type": "code",
   "execution_count": 35,
   "metadata": {},
   "outputs": [],
   "source": "# We need another random variable for our observations.\n# We give the relevant data to the value argument.\n# The observed flag stops the value changing during MCMC exploration.\nobservations = pm.Bernoulli(\"obs\", p=p, value=data, observed=True)"
  },
  {
   "cell_type": "code",
   "execution_count": 42,
   "metadata": {},
   "outputs": [
    {
     "name": "stdout",
     "output_type": "stream",
     "text": " [-----------------100%-----------------] 60000 of 60000 complete in 2.3 sec"
    }
   ],
   "source": "model = pm.Model([p, observations])\nmcmc = pm.MCMC(model)\nmcmc.sample(60000, 10000) # 60000 steps, with a burn in period of 10000\np_samples = mcmc.trace(\"p\")[:] # Samples from our posterior on p"
  },
  {
   "cell_type": "code",
   "execution_count": 43,
   "metadata": {},
   "outputs": [
    {
     "name": "stdout",
     "output_type": "stream",
     "text": "50000\n0.7152353697655647\n"
    },
    {
     "data": {
      "image/png": "[encoded data removed]",
      "text/plain": "<Figure size 432x288 with 1 Axes>"
     },
     "metadata": {
      "needs_background": "light"
     },
     "output_type": "display_data"
    }
   ],
   "source": "print(len(p_samples))\nprint(p_samples.mean())\nplt.hist(p_samples, bins=40, density=True)\nplt.axvline(x=true_coin_bias, c=\"k\")\nplt.xlabel(\"p\")\nplt.title(\"Approximate posterior of p\")\nplt.xlim(0,1);\nplt.show()"
  },
  {
   "cell_type": "code",
   "execution_count": 61,
   "metadata": {},
   "outputs": [
    {
     "data": {
      "text/plain": "Text(0.5,1,'Is my code bug-free?')"
     },
     "execution_count": 61,
     "metadata": {},
     "output_type": "execute_result"
    },
    {
     "data": {
      "image/png": "[encoded data removed]",
      "text/plain": "<Figure size 432x288 with 1 Axes>"
     },
     "metadata": {
      "needs_background": "light"
     },
     "output_type": "display_data"
    }
   ],
   "source": "# fig = figsize(12.5, 4)\np = np.linspace(0, 1, 100)\n# print(p)\nplt.plot(p, 2 * p / (1 + p), color=\"#348ABD\", lw=3)\n# plt.fill_between(p, 2*p/(1+p), alpha=.5, facecolor=[\"#A60628\"])\nplt.scatter(0.2, 2 * (0.2) / 1.2, s=400, c=\"#348ABD\")\n# plt.xlim(0, 1)\n# plt.ylim(0, 1)\nplt.xlabel(\"Prior, $P(A) = p$\")\nplt.ylabel(\"Posterior, $P(A|X)$, with $P(A) = p$\")\nplt.title(\"Is my code bug-free?\")"
  },
  {
   "cell_type": "code",
   "execution_count": 71,
   "metadata": {},
   "outputs": [
    {
     "data": {
      "text/plain": "array([0, 1, 2, 3, 4, 5, 6, 7, 8, 9])"
     },
     "execution_count": 71,
     "metadata": {},
     "output_type": "execute_result"
    }
   ],
   "source": "np.arange(0,10,1)"
  },
  {
   "cell_type": "code",
   "execution_count": null,
   "metadata": {},
   "outputs": [],
   "source": ""
  }
 ],
 "metadata": {
  "kernelspec": {
   "display_name": "PP2",
   "language": "python",
   "name": "pp"
  },
  "language_info": {
   "codemirror_mode": {
    "name": "ipython",
    "version": 2
   },
   "file_extension": ".py",
   "mimetype": "text/x-python",
   "name": "python",
   "nbconvert_exporter": "python",
   "pygments_lexer": "ipython2",
   "version": "2.7.17"
  }
 },
 "nbformat": 4,
 "nbformat_minor": 4
}

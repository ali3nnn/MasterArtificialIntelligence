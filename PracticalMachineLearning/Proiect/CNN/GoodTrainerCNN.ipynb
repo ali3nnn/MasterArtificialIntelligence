{
 "cells": [
  {
   "cell_type": "code",
   "execution_count": 85,
   "metadata": {},
   "outputs": [],
   "source": [
    "#!/usr/bin/env python\n",
    "# coding: utf-8\n",
    "\n",
    "import cv2 #resize image\n",
    "import numpy as np\n",
    "import os #for directories\n",
    "from random import shuffle\n",
    "from tqdm import tqdm #progress bar\n",
    "\n",
    "TRAIN_DIR = './Data/Kaggle/train'\n",
    "IMG_SIZE = 50\n",
    "LR = 1e-3\n",
    "\n",
    "def label_img(img):\n",
    "    word_label = img.split('.')[0]\n",
    "    if word_label == 'cat': return [1,0]\n",
    "    elif word_label == 'dog': return [0,1]\n",
    "\n",
    "training_data = []\n",
    "def create_train_data():\n",
    "    for img in tqdm(os.listdir(TRAIN_DIR)):\n",
    "        label = label_img(img)\n",
    "        path = os.path.join(TRAIN_DIR,img)\n",
    "        img = cv2.resize(cv2.imread(path, cv2.IMREAD_GRAYSCALE),(IMG_SIZE, IMG_SIZE))\n",
    "        training_data.append([np.array(img), np.array(label)])\n",
    "    shuffle(training_data)\n",
    "    np.save('train_data.npy',training_data)\n",
    "    return training_data\n",
    "\n",
    "# train_data = create_train_data()\n",
    "\n",
    "import tensorflow as tf\n",
    "import tensorflow.keras as keras\n",
    "import matplotlib.pyplot as plt\n",
    "from keras.models import Sequential, load_model\n",
    "from keras.layers import Conv2D,Activation,MaxPooling2D,Dense,Flatten,Dropout\n",
    "from keras import optimizers\n",
    "\n",
    "#create model\n",
    "model = Sequential()\n",
    "#add model layers\n",
    "model.add(Conv2D(32, kernel_size=3, activation='relu', input_shape=(IMG_SIZE,IMG_SIZE,1)))\n",
    "model.add(MaxPooling2D(pool_size =(2,2)))\n",
    "model.add(Conv2D(32, kernel_size=3, activation='relu'))\n",
    "model.add(MaxPooling2D(pool_size =(2,2)))\n",
    "model.add(Conv2D(32, kernel_size=3, activation='relu'))\n",
    "model.add(MaxPooling2D(pool_size =(2,2)))\n",
    "model.add(Conv2D(32, kernel_size=3, activation='relu'))\n",
    "model.add(Flatten())\n",
    "model.add(Dense(2, activation='softmax'))\n",
    "\n",
    "# sgd = optimizers.SGD(lr=LR, decay=1e-6, momentum=0.9, nesterov=True)\n",
    "Adam = optimizers.Adam(learning_rate=LR)\n",
    "model.compile(loss='categorical_crossentropy', optimizer='Adam', metrics=['accuracy'])\n",
    "\n",
    "train_data = np.load('train_data.npy')\n",
    "\n",
    "train = train_data[:-400]\n",
    "test = train_data[-400:]\n",
    "\n",
    "X = np.array([i[0] for i in train]).reshape(-1, IMG_SIZE, IMG_SIZE, 1) # the image data in train\n",
    "Y = np.array([i[1] for i in train])\n",
    "\n",
    "test_x = np.array([i[0] for i in test]).reshape(-1, IMG_SIZE, IMG_SIZE, 1)\n",
    "test_y = np.array([i[1] for i in test])\n",
    "\n",
    "# print(train_data)"
   ]
  },
  {
   "cell_type": "code",
   "execution_count": 79,
   "metadata": {},
   "outputs": [
    {
     "name": "stdout",
     "output_type": "stream",
     "text": [
      "Train on 23000 samples, validate on 2000 samples\n",
      "Epoch 1/11\n",
      "23000/23000 [==============================] - 36s 2ms/step - loss: 0.5856 - accuracy: 0.6941 - val_loss: 0.5667 - val_accuracy: 0.7100\n",
      "Epoch 2/11\n",
      "23000/23000 [==============================] - 47s 2ms/step - loss: 0.5527 - accuracy: 0.7221 - val_loss: 0.5782 - val_accuracy: 0.7210\n",
      "Epoch 3/11\n",
      "23000/23000 [==============================] - 51s 2ms/step - loss: 0.5258 - accuracy: 0.7403 - val_loss: 0.5187 - val_accuracy: 0.7570\n",
      "Epoch 4/11\n",
      "23000/23000 [==============================] - 52s 2ms/step - loss: 0.4931 - accuracy: 0.7618 - val_loss: 0.5122 - val_accuracy: 0.7520\n",
      "Epoch 5/11\n",
      "23000/23000 [==============================] - 49s 2ms/step - loss: 0.4767 - accuracy: 0.7710 - val_loss: 0.5086 - val_accuracy: 0.7530\n",
      "Epoch 6/11\n",
      "23000/23000 [==============================] - 48s 2ms/step - loss: 0.4486 - accuracy: 0.7914 - val_loss: 0.4938 - val_accuracy: 0.7695\n",
      "Epoch 7/11\n",
      "23000/23000 [==============================] - 51s 2ms/step - loss: 0.4262 - accuracy: 0.8023 - val_loss: 0.4583 - val_accuracy: 0.7950\n",
      "Epoch 8/11\n",
      "23000/23000 [==============================] - 55s 2ms/step - loss: 0.4020 - accuracy: 0.8149 - val_loss: 0.4641 - val_accuracy: 0.7965\n",
      "Epoch 9/11\n",
      "23000/23000 [==============================] - 64s 3ms/step - loss: 0.3838 - accuracy: 0.8264 - val_loss: 0.4489 - val_accuracy: 0.7970\n",
      "Epoch 10/11\n",
      "23000/23000 [==============================] - 68s 3ms/step - loss: 0.3615 - accuracy: 0.8371 - val_loss: 0.4955 - val_accuracy: 0.7725\n",
      "Epoch 11/11\n",
      "23000/23000 [==============================] - 72s 3ms/step - loss: 0.3460 - accuracy: 0.8458 - val_loss: 0.4828 - val_accuracy: 0.8075\n"
     ]
    }
   ],
   "source": [
    "#train the model\n",
    "deepBrain = model.fit(X, Y, validation_data=(test_x, test_y), epochs=11, use_multiprocessing=True, verbose=1, shuffle=True)\n",
    "\n",
    "model.save(\"deepBrain.h5\")"
   ]
  },
  {
   "cell_type": "code",
   "execution_count": 94,
   "metadata": {},
   "outputs": [
    {
     "name": "stdout",
     "output_type": "stream",
     "text": [
      "[[1. 0.]]\n"
     ]
    }
   ],
   "source": [
    "img = cv2.resize(cv2.imread('./Predicted Images/cat2.jpg', cv2.IMREAD_GRAYSCALE),(IMG_SIZE, IMG_SIZE))\n",
    "img = img.reshape(-1, IMG_SIZE, IMG_SIZE, 1)\n",
    "y = model.predict(img)\n",
    "print(np.round(y, 3))"
   ]
  },
  {
   "cell_type": "code",
   "execution_count": 109,
   "metadata": {},
   "outputs": [
    {
     "data": {
      "text/plain": [
       "dict_keys(['val_loss', 'val_accuracy', 'loss', 'accuracy'])"
      ]
     },
     "execution_count": 109,
     "metadata": {},
     "output_type": "execute_result"
    }
   ],
   "source": [
    "deepBrain.history.keys()"
   ]
  },
  {
   "cell_type": "code",
   "execution_count": 112,
   "metadata": {},
   "outputs": [
    {
     "data": {
      "image/png": "[encoded data removed]",
      "text/plain": [
       "<Figure size 432x288 with 1 Axes>"
      ]
     },
     "metadata": {
      "needs_background": "light"
     },
     "output_type": "display_data"
    },
    {
     "data": {
      "text/plain": [
       "<Figure size 1008x360 with 0 Axes>"
      ]
     },
     "metadata": {},
     "output_type": "display_data"
    }
   ],
   "source": [
    "plt.plot(deepBrain.history['accuracy'])\n",
    "plt.plot(deepBrain.history['val_accuracy'])\n",
    "plt.title('model accuracy')\n",
    "plt.ylabel('accuracy')\n",
    "plt.xlabel('epoch')\n",
    "plt.legend(['train', 'validation'], loc='upper left')\n",
    "plt.figure(figsize=(14, 5))\n",
    "plt.show()"
   ]
  },
  {
   "cell_type": "code",
   "execution_count": 117,
   "metadata": {},
   "outputs": [
    {
     "data": {
      "image/png": "[encoded data removed]",
      "text/plain": [
       "<Figure size 432x288 with 1 Axes>"
      ]
     },
     "metadata": {
      "needs_background": "light"
     },
     "output_type": "display_data"
    }
   ],
   "source": [
    "plt.plot(deepBrain.history['loss'])\n",
    "plt.plot(deepBrain.history['val_loss'])\n",
    "plt.title('model loss')\n",
    "plt.ylabel('loss')\n",
    "plt.xlabel('epoch')\n",
    "plt.legend(['train', 'validation'], loc='lower left')\n",
    "plt.show()"
   ]
  },
  {
   "cell_type": "code",
   "execution_count": null,
   "metadata": {},
   "outputs": [],
   "source": []
  }
 ],
 "metadata": {
  "kernelspec": {
   "display_name": "ML",
   "language": "python",
   "name": "practicalml"
  },
  "language_info": {
   "codemirror_mode": {
    "name": "ipython",
    "version": 3
   },
   "file_extension": ".py",
   "mimetype": "text/x-python",
   "name": "python",
   "nbconvert_exporter": "python",
   "pygments_lexer": "ipython3",
   "version": "3.7.5"
  }
 },
 "nbformat": 4,
 "nbformat_minor": 2
}

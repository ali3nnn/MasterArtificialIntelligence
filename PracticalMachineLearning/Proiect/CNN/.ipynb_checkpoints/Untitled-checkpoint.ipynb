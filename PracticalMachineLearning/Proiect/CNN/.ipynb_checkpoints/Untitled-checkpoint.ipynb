{
 "cells": [
  {
   "cell_type": "code",
   "execution_count": 6,
   "metadata": {},
   "outputs": [
    {
     "name": "stdout",
     "output_type": "stream",
     "text": [
      "Train on 24500 samples, validate on 500 samples\n",
      "Epoch 1/4\n",
      "24500/24500 [==============================] - 433s 18ms/step - loss: 0.5003 - accuracy: 0.4996 - val_loss: 0.4880 - val_accuracy: 0.5120\n",
      "Epoch 2/4\n",
      "24500/24500 [==============================] - 461s 19ms/step - loss: 0.5002 - accuracy: 0.4998 - val_loss: 0.4880 - val_accuracy: 0.5120\n",
      "Epoch 3/4\n",
      "24500/24500 [==============================] - 511s 21ms/step - loss: 0.5002 - accuracy: 0.4998 - val_loss: 0.4880 - val_accuracy: 0.5120\n",
      "Epoch 4/4\n",
      "24500/24500 [==============================] - 465s 19ms/step - loss: 0.5002 - accuracy: 0.4998 - val_loss: 0.4880 - val_accuracy: 0.5120\n"
     ]
    }
   ],
   "source": [
    "#!/usr/bin/env python\n",
    "# coding: utf-8\n",
    "\n",
    "import cv2 #resize image\n",
    "import numpy as np\n",
    "import os #for directories\n",
    "from random import shuffle\n",
    "from tqdm import tqdm #progress bar\n",
    "\n",
    "TRAIN_DIR = './Data/Kaggle/train'\n",
    "IMG_SIZE = 50\n",
    "LR = 1e-3\n",
    "\n",
    "def label_img(img):\n",
    "    word_label = img.split('.')[0]\n",
    "    if word_label == 'cat': return [1,0]\n",
    "    elif word_label == 'dog': return [0,1]\n",
    "\n",
    "training_data = []\n",
    "def create_train_data():\n",
    "    for img in tqdm(os.listdir(TRAIN_DIR)):\n",
    "        label = label_img(img)\n",
    "        path = os.path.join(TRAIN_DIR,img)\n",
    "        img = cv2.resize(cv2.imread(path, cv2.IMREAD_GRAYSCALE),(IMG_SIZE, IMG_SIZE))\n",
    "        training_data.append([np.array(img), np.array(label)])\n",
    "    shuffle(training_data)\n",
    "    np.save('train_data.npy',training_data)\n",
    "    return training_data\n",
    "\n",
    "# train_data = create_train_data()\n",
    "\n",
    "train_data = np.load('train_data.npy')\n",
    "\n",
    "import tensorflow as tf\n",
    "import tensorflow.keras as keras\n",
    "import matplotlib.pyplot as plt\n",
    "from keras.models import Sequential, load_model\n",
    "from keras.layers import Dense, Conv2D, Flatten\n",
    "from keras import optimizers\n",
    "\n",
    "#create model\n",
    "model = Sequential()\n",
    "#add model layers\n",
    "model.add(Conv2D(32, kernel_size=3, activation='relu', input_shape=(IMG_SIZE,IMG_SIZE,1)))\n",
    "model.add(Conv2D(64, kernel_size=3, activation='relu'))\n",
    "model.add(Conv2D(64, kernel_size=3, activation='relu'))\n",
    "model.add(Conv2D(128, kernel_size=3, activation='relu'))\n",
    "model.add(Conv2D(32, kernel_size=3, activation='relu'))\n",
    "model.add(Conv2D(32, kernel_size=3, activation='relu'))\n",
    "model.add(Flatten())\n",
    "model.add(Dense(2, activation='softmax'))\n",
    "\n",
    "sgd = optimizers.SGD(lr=LR, decay=1e-6, momentum=0.9, nesterov=True)\n",
    "model.compile(loss='mean_squared_error', optimizer='sgd', metrics=['accuracy'])\n",
    "\n",
    "train = train_data[:-500]\n",
    "test = train_data[-500:]\n",
    "\n",
    "X = np.array([i[0] for i in train]).reshape(-1, IMG_SIZE, IMG_SIZE, 1) # the image data in train\n",
    "Y = np.array([i[1] for i in train])\n",
    "\n",
    "test_x = np.array([i[0] for i in test]).reshape(-1, IMG_SIZE, IMG_SIZE, 1)\n",
    "test_y = np.array([i[1] for i in test])\n",
    "\n",
    "#train the model\n",
    "model.fit(X, Y, validation_data=(test_x, test_y), epochs=4, use_multiprocessing=True)\n",
    "\n",
    "model.save(\"predictor.h5\")"
   ]
  },
  {
   "cell_type": "code",
   "execution_count": null,
   "metadata": {},
   "outputs": [],
   "source": []
  }
 ],
 "metadata": {
  "kernelspec": {
   "display_name": "ML",
   "language": "python",
   "name": "practicalml"
  },
  "language_info": {
   "codemirror_mode": {
    "name": "ipython",
    "version": 3
   },
   "file_extension": ".py",
   "mimetype": "text/x-python",
   "name": "python",
   "nbconvert_exporter": "python",
   "pygments_lexer": "ipython3",
   "version": "3.7.5"
  }
 },
 "nbformat": 4,
 "nbformat_minor": 2
}

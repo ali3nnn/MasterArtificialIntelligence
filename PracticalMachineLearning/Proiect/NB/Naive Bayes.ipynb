{
 "cells": [
  {
   "cell_type": "code",
   "execution_count": 59,
   "metadata": {},
   "outputs": [],
   "source": [
    "from sklearn import datasets  \n",
    "import matplotlib.pyplot as plt  \n",
    "# import pandas as pd  \n",
    "#importing the necessary packages  \n",
    "from sklearn.model_selection import train_test_split  \n",
    "from sklearn.naive_bayes import GaussianNB  \n",
    "from sklearn import metrics\n",
    "import numpy as np\n",
    "import cv2\n",
    "import sys"
   ]
  },
  {
   "cell_type": "code",
   "execution_count": 13,
   "metadata": {},
   "outputs": [],
   "source": [
    "train_data = np.load('train_data.npy')"
   ]
  },
  {
   "cell_type": "code",
   "execution_count": 14,
   "metadata": {},
   "outputs": [
    {
     "name": "stdout",
     "output_type": "stream",
     "text": [
      "[1 1 1 0 1 1 1 1 0 1 1 1 0 0 1 0 0 1 0 1]\n"
     ]
    }
   ],
   "source": [
    "rangeImg = 25000\n",
    "\n",
    "labels_aux = np.zeros([rangeImg,1], dtype='uint8')\n",
    "\n",
    "for i in range(rangeImg):\n",
    "    labels_aux[i] = np.argmax(train_data[i][1])\n",
    "\n",
    "labels = labels_aux.flatten()\n",
    "# print(labels[:20])"
   ]
  },
  {
   "cell_type": "code",
   "execution_count": 15,
   "metadata": {},
   "outputs": [],
   "source": [
    "images = np.zeros([rangeImg,2500], dtype='uint8')\n",
    "# print(images)\n",
    "for i in range(rangeImg):\n",
    "    images[i] = train_data[i][0].flatten()"
   ]
  },
  {
   "cell_type": "code",
   "execution_count": 16,
   "metadata": {},
   "outputs": [],
   "source": [
    "xTrain, xTest, yTrain, yTest = train_test_split(images, labels, test_size = 0.2, random_state = 1)"
   ]
  },
  {
   "cell_type": "code",
   "execution_count": 18,
   "metadata": {},
   "outputs": [
    {
     "data": {
      "text/plain": [
       "GaussianNB(priors=None, var_smoothing=1e-09)"
      ]
     },
     "execution_count": 18,
     "metadata": {},
     "output_type": "execute_result"
    }
   ],
   "source": [
    "NB = GaussianNB()  \n",
    "NB.fit(xTrain, yTrain)   "
   ]
  },
  {
   "cell_type": "code",
   "execution_count": 43,
   "metadata": {},
   "outputs": [
    {
     "name": "stdout",
     "output_type": "stream",
     "text": [
      "Cat\n"
     ]
    }
   ],
   "source": [
    "img = cv2.resize(cv2.imread(sys.argv[1], cv2.IMREAD_GRAYSCALE),(50, 50))\n",
    "# img = cv2.resize(cv2.imread('./cat.jpg', cv2.IMREAD_GRAYSCALE),(50, 50))\n",
    "img = np.array(img).flatten()\n",
    "if NB.predict([img])==0:\n",
    "    print(\"Cat\")\n",
    "else: \n",
    "    print(\"Dog\")"
   ]
  },
  {
   "cell_type": "code",
   "execution_count": 68,
   "metadata": {},
   "outputs": [
    {
     "name": "stdout",
     "output_type": "stream",
     "text": [
      "GaussianNB(priors=None, var_smoothing=1e-09)\n"
     ]
    }
   ],
   "source": [
    "# print(score(xTest,yTest))\n",
    "predicts = NB.predict(xTest)"
   ]
  },
  {
   "cell_type": "code",
   "execution_count": 67,
   "metadata": {},
   "outputs": [
    {
     "name": "stdout",
     "output_type": "stream",
     "text": [
      "Loss: 14.858771\n",
      "              precision    recall  f1-score   support\n",
      "\n",
      "           0       0.57      0.52      0.55      2481\n",
      "           1       0.57      0.62      0.59      2519\n",
      "\n",
      "    accuracy                           0.57      5000\n",
      "   macro avg       0.57      0.57      0.57      5000\n",
      "weighted avg       0.57      0.57      0.57      5000\n",
      "\n"
     ]
    }
   ],
   "source": [
    "print(\"Loss: %f\" % metrics.log_loss(yTest, predicts))\n",
    "print(metrics.classification_report(yTest, predicts))"
   ]
  },
  {
   "cell_type": "code",
   "execution_count": 54,
   "metadata": {},
   "outputs": [
    {
     "name": "stdout",
     "output_type": "stream",
     "text": [
      "[1 0 1 1 1 0 1 0 0 1 1 1 0 1 0 0 1 1 0 0 1 1 0 0 0 0 0 1 0 0]\n",
      "[0 1 0 0 0 1 0 0 1 1 1 1 1 0 0 0 1 0 0 0 0 0 0 1 0 0 1 0 0 1]\n"
     ]
    }
   ],
   "source": [
    "# print(predicts[:30])\n",
    "# print(yTest[:30])"
   ]
  }
 ],
 "metadata": {
  "kernelspec": {
   "display_name": "ML",
   "language": "python",
   "name": "practicalml"
  },
  "language_info": {
   "codemirror_mode": {
    "name": "ipython",
    "version": 3
   },
   "file_extension": ".py",
   "mimetype": "text/x-python",
   "name": "python",
   "nbconvert_exporter": "python",
   "pygments_lexer": "ipython3",
   "version": "3.7.5"
  }
 },
 "nbformat": 4,
 "nbformat_minor": 2
}

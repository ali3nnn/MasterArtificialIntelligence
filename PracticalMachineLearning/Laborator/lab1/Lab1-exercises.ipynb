{
 "cells": [
  {
   "cell_type": "markdown",
   "metadata": {},
   "source": [
    "# Practical Machine Learning                                                                             \n",
    "# Lab 1"
   ]
  },
  {
   "cell_type": "markdown",
   "metadata": {},
   "source": [
    "## Exercises"
   ]
  },
  {
   "cell_type": "markdown",
   "metadata": {},
   "source": [
    "### 1.[Here](https://github.com//practical-ML-fmi/ML/raw/master/Data/lab1/images.zip), we have 8 images, read the images, flatten them, then store them in a numpy array. Before storing the images divide them by 255.\n",
    "The numpy array should have the dimension equals to (8, 64, 64, 3), in order to check the dimension use the $shape$ attribute."
   ]
  },
  {
   "cell_type": "code",
   "execution_count": 4,
   "metadata": {},
   "outputs": [
    {
     "name": "stdout",
     "output_type": "stream",
     "text": [
      "(8, 64, 64, 3)\n"
     ]
    }
   ],
   "source": [
    "import numpy as np\n",
    "from matplotlib.pyplot import imread\n",
    "image_folder = \"./images/\"\n",
    "\n",
    "list_images = []\n",
    "import os\n",
    "imgs = os.listdir('images')\n",
    "for i, path in enumerate(imgs):\n",
    "    img = imread(\"./images/\" + path)\n",
    "    list_images.append(img)\n",
    "\n",
    "    \n",
    "images = np.asarray(list_images)\n",
    "print(images.shape)"
   ]
  },
  {
   "cell_type": "markdown",
   "metadata": {},
   "source": [
    "### 2. Compute the mean of the images.\n"
   ]
  },
  {
   "cell_type": "code",
   "execution_count": 6,
   "metadata": {},
   "outputs": [
    {
     "name": "stdout",
     "output_type": "stream",
     "text": [
      "(64, 64, 3)\n"
     ]
    }
   ],
   "source": [
    "mean = np.mean(images, axis=0)\n",
    "print(mean.shape)"
   ]
  },
  {
   "cell_type": "markdown",
   "metadata": {},
   "source": [
    "### 3. Normalize the images by subtracting the mean from each image."
   ]
  },
  {
   "cell_type": "code",
   "execution_count": 7,
   "metadata": {},
   "outputs": [
    {
     "name": "stdout",
     "output_type": "stream",
     "text": [
      "(8, 64, 64, 3)\n"
     ]
    }
   ],
   "source": [
    "images = images - mean\n",
    "print(images.shape)"
   ]
  },
  {
   "cell_type": "markdown",
   "metadata": {},
   "source": [
    "### 4. [Here](https://github.com//practical-ML-fmi/ML/raw/master/Data/lab1/weights.zip), we have the weights and the bias for a perceptron that classifies the images in 4 classes. Use the weights (use np.load(‘path’) to load the weights) and the images (after normalization) to compute (y_hat) the predictions of the perceptron.  \n",
    "  $$ y_{hat} = softmax(X * W + b) $$\n",
    "  $$ X - input, W - weights, b - bias $$\n",
    "  $$Softmax(z_i)=\\frac{e^{z_i}}{\\sum_{j=1}^{j=K} e^{z_j} }$$"
   ]
  },
  {
   "cell_type": "code",
   "execution_count": 8,
   "metadata": {},
   "outputs": [
    {
     "name": "stdout",
     "output_type": "stream",
     "text": [
      "(8, 12288)\n"
     ]
    },
    {
     "data": {
      "text/plain": [
       "array([3, 1, 2, 0, 0, 1, 2, 2])"
      ]
     },
     "execution_count": 8,
     "metadata": {},
     "output_type": "execute_result"
    }
   ],
   "source": [
    "W = np.load('./coefs.npy')\n",
    "b = np.load('./bias.npy')\n",
    "\n",
    "\n",
    "images = images.reshape((8, 64*64*3))\n",
    "# print(W.shape)\n",
    "# print(b)\n",
    "\n",
    "\n",
    "def softmax(x):\n",
    "    return np.exp(x) / np.sum(np.exp(x), axis=0)\n",
    "\n",
    "\n",
    "y_hat = softmax(np.matmul(images, W) + b)\n",
    "\n",
    "results = np.argmax(y_hat, axis = 1)\n",
    "\n",
    "results"
   ]
  },
  {
   "cell_type": "markdown",
   "metadata": {},
   "source": [
    "### 5. Let the ground-truth labels be y = [0, 0, 1, 1, 2,  2, 3,  3]. Compute the accuracy of the classifier (define a new function accuracy_score). \n",
    "$$Accuracy = \\frac{1}{n} \\sum_{i=1}^{j=n} y_{pred}^i == y_{true}^i$$"
   ]
  },
  {
   "cell_type": "code",
   "execution_count": 85,
   "metadata": {},
   "outputs": [
    {
     "data": {
      "text/plain": [
       "0.125"
      ]
     },
     "execution_count": 85,
     "metadata": {},
     "output_type": "execute_result"
    }
   ],
   "source": [
    "acc =  sum((np.array([0, 0, 1, 1, 2, 2, 3, 3]) - results))/results.size\n",
    "acc"
   ]
  },
  {
   "cell_type": "markdown",
   "metadata": {},
   "source": [
    "### 6. The labels of the classes are: (Cat - 0,  Dog - 1, Frog - 2,  Horse - 3), print the label for each prediction (use a dictionary). \n"
   ]
  },
  {
   "cell_type": "code",
   "execution_count": 9,
   "metadata": {},
   "outputs": [
    {
     "name": "stdout",
     "output_type": "stream",
     "text": [
      "07.png Horse\n",
      "04.png Dog\n",
      "06.png Frog\n",
      "01.png Cat\n",
      "02.png Cat\n",
      "03.png Dog\n",
      "08.png Frog\n",
      "05.png Frog\n"
     ]
    }
   ],
   "source": [
    "labels = {0: 'Cat',\n",
    "         1: 'Dog',\n",
    "         2: 'Frog',\n",
    "         3: 'Horse'}\n",
    "\n",
    "for i, path in enumerate(imgs):\n",
    "    print(path, labels[results[i]])\n"
   ]
  },
  {
   "cell_type": "markdown",
   "metadata": {},
   "source": [
    "### 7. Display the mean image (use imshow from Matplotlib).\n",
    "#### Don’t forget to multiply the image by 255."
   ]
  },
  {
   "cell_type": "code",
   "execution_count": 88,
   "metadata": {},
   "outputs": [
    {
     "name": "stdout",
     "output_type": "stream",
     "text": [
      "(8, 64, 64, 3)\n"
     ]
    },
    {
     "data": {
      "text/plain": [
       "<matplotlib.image.AxesImage at 0x22463e674c8>"
      ]
     },
     "execution_count": 88,
     "metadata": {},
     "output_type": "execute_result"
    },
    {
     "data": {
      "image/png": "[encoded data removed]",
      "text/plain": [
       "<Figure size 432x288 with 1 Axes>"
      ]
     },
     "metadata": {
      "needs_background": "light"
     },
     "output_type": "display_data"
    }
   ],
   "source": [
    "from matplotlib.pyplot import imshow\n",
    "\n",
    "print(images.shape)\n",
    "\n",
    "x = np.mean(images, axis=0) * 255\n",
    "\n",
    "imshow(x.astype(int))b\n"
   ]
  },
  {
   "cell_type": "code",
   "execution_count": null,
   "metadata": {},
   "outputs": [],
   "source": []
  }
 ],
 "metadata": {
  "kernelspec": {
   "display_name": "Python 3",
   "language": "python",
   "name": "python3"
  },
  "language_info": {
   "codemirror_mode": {
    "name": "ipython",
    "version": 3
   },
   "file_extension": ".py",
   "mimetype": "text/x-python",
   "name": "python",
   "nbconvert_exporter": "python",
   "pygments_lexer": "ipython3",
   "version": "3.6.8"
  }
 },
 "nbformat": 4,
 "nbformat_minor": 2
}

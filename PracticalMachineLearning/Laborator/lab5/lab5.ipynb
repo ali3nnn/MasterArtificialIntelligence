{
 "cells": [
  {
   "cell_type": "markdown",
   "metadata": {
    "colab_type": "text",
    "id": "-KKW-jrrfjUg"
   },
   "source": [
    "# Cluster analysys \n",
    "\n",
    "![Clustering algorithms](https://miro.medium.com/max/3800/0*zgxSvaRl54FMeSao.png)\n",
    "*Different clustering algorithms and their run times*\n",
    "\n",
    "### Definitions\n",
    "\n",
    "The main goal of cluster analysis is to group objects that are similar in groups or clusters. It is also used to determine wether the data can be separated into distinct subsets.\n",
    "\n",
    "Clustering algorithms rely on distances between objects. Distance between objects $x_{ij},i = 1, 2, ..., N$ with multiple features $j = 1, 2, ..., p$ can be defined as:\n",
    "\\begin{equation}\n",
    "D(x_i, x_{i'}) = \\sum_{j=1}^{p} d_j(x_{ij}, x_{i'j})\n",
    "\\end{equation}\n",
    "where $d_j(x_{ij}, x_{i'j})$ is usually the squared distance: \\begin{equation}\n",
    "d_j(x_{ij}, x_{i'j}) = (x_{ij} - x_{i'j})^2\n",
    "\\end{equation}\n",
    "\n",
    "### Distances for different feature types\n",
    "\n",
    "* **Quantitative features** - $l_1$, $l_2$ distances\n",
    "\\begin{equation}\n",
    "d_j(x_{ij}, x_{i'j}) = (x_{ij} - x_{i'j})^2\n",
    "\\end{equation}\n",
    "* **Ordinal features** - ordered set (grades, dislike/neutral/like)\n",
    "\\begin{equation}\n",
    "Q(i) = \\frac{i - 1/2}{M}, i = 1, ..., M\n",
    "\\end{equation}\n",
    "where $M$ is the number of distinct values. After this transformation features can be treated as quantitative features.\n",
    "* **Categorical features** - a symmetric matrix $MxM$ with distances must be explicitly defined.\n",
    "\n",
    "### Performance\n",
    "\n",
    "* **Within cluster point scatter** - points within the same cluster must be close to one another, $W(C)$ should be minimised:\n",
    "\\begin{equation}\n",
    "W(C) = \\frac{1}{2}\\sum_{k=1}^{K} \\sum_{C(i)=k} \\sum_{C(i')=k} d(x_{i}, x_{i'})\n",
    "\\end{equation}\n",
    "* **Between clusters point scatter** - points from different clusters must be far from each other, $B(C)$ should be maximised:\n",
    "\\begin{equation}\n",
    "B(C) = \\frac{1}{2}\\sum_{k=1}^{K} \\sum_{C(i)=k} \\sum_{C(i') \\neq k} d(x_{i}, x_{i'})\n",
    "\\end{equation}\n",
    "\n",
    "Solving the clustering problem is equivalent to maximising $B(C)$ or minimising $W(C)$."
   ]
  },
  {
   "cell_type": "markdown",
   "metadata": {
    "colab_type": "text",
    "id": "tY3W584HWg5J"
   },
   "source": [
    "## K-means\n",
    "\n",
    "*Used for grouping instances of an unlabeled dataset. Requires the number of clusters as input.*\n",
    "\n",
    "![](https://upload.wikimedia.org/wikipedia/commons/b/b7/SLINK-Gaussian-data.svg)\n",
    "\n",
    "### Algorithm\n",
    "\n",
    "**Input**: $K$ - number of cluster centers\n",
    "\n",
    "1. Randomly select $K$ random points as cluster centers: $\\{m_1, m_2, ..., m_K\\}$\n",
    "2. Assign points to clusters minimizing \n",
    "\\begin{equation}\n",
    "\\min_{C, \\{m_k\\}_1^K} \\sum_{k=1}^K N_k \\sum_{C(i) = k} || x_i - m_k || ^ 2\n",
    "\\end{equation}\n",
    "3. Calculate new cluster means by minimizing\n",
    "\\begin{equation}\n",
    "\\bar{x}_S = \\arg\\min_{1 \\leq k \\leq K} \\sum_{i \\in S} || x_i - m || ^ 2\n",
    "\\end{equation}\n",
    "4. Repeat steps 2 and 3 until convergence\n",
    "\n",
    "**Output**: Cluster assignments $C(i)$\n",
    "\n",
    "\n"
   ]
  },
  {
   "cell_type": "markdown",
   "metadata": {
    "colab_type": "text",
    "id": "AnySzGYHWhz1"
   },
   "source": [
    "## DBSCAN\n",
    "**Density-based spatial clustering of applications with noise**\n",
    "\n",
    "*Good for clusters of similar density. Doesn't require prior knowledge on number of clusters*\n",
    "![](https://upload.wikimedia.org/wikipedia/commons/f/f2/SLINK-density-data.svg) \n",
    "\n",
    "DBSCAN classifies points as:\n",
    "* **Core** - points that have at least $K$ points within $\\varepsilon$ radius.\n",
    "* **Directly reachable** - points that are at most $\\varepsilon$ distance from a **core** point.\n",
    "* **Reachable** - points that can be reached by a **core** point through other reachable **core** points (can form a path of reachable **core** points).\n",
    "* **Outliers** - points that are nor **core** nor **reachable**.\n",
    "\n",
    "A cluster contains at least one core point and includes all points that are reachable from that point\n",
    "\n",
    "### Algorithm\n",
    "\n",
    "**Input**: \n",
    "\n",
    "$\\varepsilon$ - distance\n",
    "\n",
    "$K$ - minimum number of points that are reachable for a point to be a **core** point\n",
    "\n",
    "1. Select a random unvisited point $i$.\n",
    "2. If point is a **core** points - start a cluster, otherwise - mark point as noise and go to step 1.\n",
    "3. Visit every reachable point from $i$ and assign it to the cluster.\n",
    "4. Repeat steps 1, 2, and 3 until no points are left unvisited.\n",
    "\n",
    "**Output**: Cluster assignments $C(i)$"
   ]
  },
  {
   "cell_type": "markdown",
   "metadata": {
    "colab_type": "text",
    "id": "2hapmiQrWuJc"
   },
   "source": [
    "### Imports"
   ]
  },
  {
   "cell_type": "code",
   "execution_count": 1,
   "metadata": {
    "colab": {},
    "colab_type": "code",
    "id": "0lSdMlfKIV5e"
   },
   "outputs": [],
   "source": [
    "%matplotlib inline\n",
    "import numpy as np\n",
    "import pandas as pd\n",
    "import matplotlib.pyplot as plt\n",
    "from sklearn.decomposition import PCA\n",
    "from sklearn.manifold import TSNE\n",
    "import seaborn as sns; sns.set(style='white')\n",
    "\n",
    "from sklearn import decomposition\n",
    "from sklearn import datasets\n",
    "from mpl_toolkits.mplot3d import Axes3D\n",
    "\n",
    "from pylab import rcParams\n",
    "rcParams['figure.figsize'] = 12, 12"
   ]
  },
  {
   "cell_type": "markdown",
   "metadata": {
    "colab_type": "text",
    "id": "tvRPi9KYWvOB"
   },
   "source": [
    "### Utility plotting functions"
   ]
  },
  {
   "cell_type": "code",
   "execution_count": 2,
   "metadata": {
    "colab": {},
    "colab_type": "code",
    "id": "LfCCQO6mXL4r"
   },
   "outputs": [],
   "source": [
    "COLORS = ['tab:blue', 'tab:orange', 'tab:green', 'tab:red', 'tab:purple', 'tab:brown', 'tab:pink', 'tab:olive', 'tab:cyan', 'tab:gray']\n",
    "MARKERS = ['o', 'v', 's', '<', '>', '8', '^', 'p', '*', 'h', 'H', 'D', 'd', 'P', 'X']\n",
    "\n",
    "def plot2d(X, y_pred, y_true, mode=None, centroids=None):\n",
    "    transformer = None\n",
    "    X_r = X\n",
    "    \n",
    "    if mode is not None:\n",
    "        transformer = mode(n_components=2)\n",
    "        X_r = transformer.fit_transform(X)\n",
    "\n",
    "    assert X_r.shape[1] == 2, 'plot2d only works with 2-dimensional data'\n",
    "\n",
    "\n",
    "    plt.grid()\n",
    "    for ix, iyp, iyt in zip(X_r, y_pred, y_true):\n",
    "        plt.plot(ix[0], ix[1], \n",
    "                    c=COLORS[iyp], \n",
    "                    marker=MARKERS[iyt])\n",
    "        \n",
    "    if centroids is not None:\n",
    "        C_r = centroids\n",
    "        if transformer is not None:\n",
    "            C_r = transformer.fit_transform(centroids)\n",
    "        for cx in C_r:\n",
    "            plt.plot(cx[0], cx[1], \n",
    "                        marker=MARKERS[-1], \n",
    "                        markersize=10,\n",
    "                        c='red')\n",
    "\n",
    "    plt.show()\n",
    "\n",
    "def plot3d(X, y_pred, y_true, mode=None, centroids=None):\n",
    "    transformer = None\n",
    "    X_r = X\n",
    "    if mode is not None:\n",
    "        transformer = mode(n_components=3)\n",
    "        X_r = transformer.fit_transform(X)\n",
    "\n",
    "    assert X_r.shape[1] == 3, 'plot2d only works with 3-dimensional data'\n",
    "\n",
    "    fig = plt.figure()\n",
    "    ax = fig.add_subplot(projection='3d')\n",
    "    ax.elev = 30\n",
    "    ax.azim = 120\n",
    "\n",
    "    for ix, iyp, iyt in zip(X_r, y_pred, y_true):\n",
    "        ax.plot(xs=[ix[0]], ys=[ix[1]], zs=[ix[2]], zdir='z',\n",
    "                    c=COLORS[iyp], \n",
    "                    marker=MARKERS[iyt])\n",
    "        \n",
    "    if centroids is not None:\n",
    "        C_r = centroids\n",
    "        if transformer is not None:\n",
    "            C_r = transformer.fit_transform(centroids)\n",
    "        for cx in C_r:\n",
    "            ax.plot(xs=[cx[0]], ys=[cx[1]], zs=[cx[2]], zdir='z',\n",
    "                        marker=MARKERS[-1], \n",
    "                        markersize=10,\n",
    "                        c='red')\n",
    "    plt.show()"
   ]
  },
  {
   "cell_type": "markdown",
   "metadata": {
    "colab_type": "text",
    "id": "dH1IAJeTWriw"
   },
   "source": [
    "### Load dataset"
   ]
  },
  {
   "cell_type": "code",
   "execution_count": 3,
   "metadata": {
    "colab": {},
    "colab_type": "code",
    "id": "iBA94PwXW-KC"
   },
   "outputs": [],
   "source": [
    "iris = datasets.load_iris()\n",
    "X = iris.data\n",
    "y = iris.target"
   ]
  },
  {
   "cell_type": "code",
   "execution_count": 4,
   "metadata": {
    "colab": {
     "base_uri": "https://localhost:8080/",
     "height": 703
    },
    "colab_type": "code",
    "id": "TQYXkwWRROks",
    "outputId": "c1ee2979-2147-4742-b9bf-31cdc59b02f7"
   },
   "outputs": [
    {
     "data": {
      "image/png": "[encoded data removed]",
      "text/plain": [
       "<Figure size 432x288 with 1 Axes>"
      ]
     },
     "metadata": {
      "needs_background": "light"
     },
     "output_type": "display_data"
    }
   ],
   "source": [
    "plot2d(X, y, y, TSNE)"
   ]
  },
  {
   "cell_type": "code",
   "execution_count": 5,
   "metadata": {
    "colab": {
     "base_uri": "https://localhost:8080/",
     "height": 683
    },
    "colab_type": "code",
    "id": "ng-n182iXtjv",
    "outputId": "c2674ca9-d603-429e-dafd-55e4fd816ed8"
   },
   "outputs": [
    {
     "data": {
      "image/png": "[encoded data removed]",
      "text/plain": [
       "<Figure size 432x288 with 1 Axes>"
      ]
     },
     "metadata": {
      "needs_background": "light"
     },
     "output_type": "display_data"
    }
   ],
   "source": [
    "plot3d(X, y, y, PCA)"
   ]
  },
  {
   "cell_type": "code",
   "execution_count": 16,
   "metadata": {
    "colab": {
     "base_uri": "https://localhost:8080/",
     "height": 705
    },
    "colab_type": "code",
    "id": "urMHWDYSXw4b",
    "outputId": "94c50b8b-e997-429c-83c3-33dafb387956"
   },
   "outputs": [
    {
     "data": {
      "image/png": "[encoded data removed]",
      "text/plain": [
       "<Figure size 432x288 with 1 Axes>"
      ]
     },
     "metadata": {
      "needs_background": "light"
     },
     "output_type": "display_data"
    }
   ],
   "source": [
    "from sklearn.cluster import KMeans\n",
    "\n",
    "kmeans = KMeans(n_clusters=3, random_state=42).fit(X)\n",
    "\n",
    "plot2d(X, kmeans.labels_, y, mode=PCA, centroids=kmeans.cluster_centers_)"
   ]
  },
  {
   "cell_type": "code",
   "execution_count": 11,
   "metadata": {
    "colab": {
     "base_uri": "https://localhost:8080/",
     "height": 705
    },
    "colab_type": "code",
    "id": "ltl12pcXall5",
    "outputId": "5d9c4264-f324-409d-fb32-dadb5dd3bce5"
   },
   "outputs": [
    {
     "data": {
      "image/png": "[encoded data removed]",
      "text/plain": [
       "<Figure size 432x288 with 1 Axes>"
      ]
     },
     "metadata": {
      "needs_background": "light"
     },
     "output_type": "display_data"
    }
   ],
   "source": [
    "from sklearn.cluster import DBSCAN\n",
    "\n",
    "dbscan = DBSCAN(eps=0.5, min_samples=5).fit(X)\n",
    "\n",
    "plot2d(X, dbscan.labels_, y, mode=PCA)"
   ]
  },
  {
   "cell_type": "markdown",
   "metadata": {
    "colab_type": "text",
    "id": "ajQHkmU2N9Ar"
   },
   "source": [
    "# Exercises"
   ]
  },
  {
   "cell_type": "markdown",
   "metadata": {
    "colab_type": "text",
    "id": "6-8ECRoROCWw"
   },
   "source": [
    "### 1. Iris data `X` contains 4 features. Save the last 2 (`X[:, 2:4]`) features from `X` into a different variable `X_r`, apply K-means on it, and plot the results using `plot2d(...)`. "
   ]
  },
  {
   "cell_type": "code",
   "execution_count": null,
   "metadata": {
    "colab": {},
    "colab_type": "code",
    "id": "Z_9VXJb6OkSb"
   },
   "outputs": [],
   "source": [
    "# write code here\n"
   ]
  },
  {
   "cell_type": "markdown",
   "metadata": {
    "colab_type": "text",
    "id": "GKDlhhDjOm-I"
   },
   "source": [
    "### 2. Using the simpler data from above apply DBSCAN using different values of $\\varepsilon$ (`eps`) and $K$ (`min_samples`).\n",
    "\n",
    "$\\varepsilon \\in \\{0.1, 0.2, 0.3\\}$\n",
    "\n",
    "$min\\_samples \\in \\{2, 3, 4, 5\\}$\n",
    "\n",
    "Print number of clusters detected for each case,  number of elements in each cluster, number of outliers"
   ]
  },
  {
   "cell_type": "code",
   "execution_count": null,
   "metadata": {
    "colab": {},
    "colab_type": "code",
    "id": "EDbJruEBO5Z7"
   },
   "outputs": [],
   "source": [
    "# write code here"
   ]
  },
  {
   "cell_type": "markdown",
   "metadata": {
    "colab_type": "text",
    "id": "0QtwrEogkX72"
   },
   "source": [
    "### 3. Plot the clustering that seems to best group the data"
   ]
  },
  {
   "cell_type": "code",
   "execution_count": null,
   "metadata": {
    "colab": {},
    "colab_type": "code",
    "id": "KPbGMM6JO5dX"
   },
   "outputs": [],
   "source": [
    "# write code here"
   ]
  },
  {
   "cell_type": "markdown",
   "metadata": {
    "colab_type": "text",
    "id": "r4sQtGNQny-3"
   },
   "source": [
    "### Lets load another dataset and plot it"
   ]
  },
  {
   "cell_type": "code",
   "execution_count": null,
   "metadata": {
    "colab": {
     "base_uri": "https://localhost:8080/",
     "height": 703
    },
    "colab_type": "code",
    "id": "87p_KKY9krfA",
    "outputId": "a7a28494-155b-4296-dbc1-784347f8c17f"
   },
   "outputs": [],
   "source": [
    "testset = datasets.load_wine()\n",
    "plot2d(testset.data, testset.target, testset.target, mode=PCA)"
   ]
  },
  {
   "cell_type": "markdown",
   "metadata": {
    "colab_type": "text",
    "id": "Bklpd0w8oA_E"
   },
   "source": [
    "We can see it contains 3 classes, you can explore it further, it may be useful for DBSCAN."
   ]
  },
  {
   "cell_type": "code",
   "execution_count": null,
   "metadata": {
    "colab": {},
    "colab_type": "code",
    "id": "sCGGiwImoMiK"
   },
   "outputs": [],
   "source": [
    "### Explore data"
   ]
  },
  {
   "cell_type": "markdown",
   "metadata": {
    "colab_type": "text",
    "id": "orAuHQf6oPe1"
   },
   "source": [
    "### 4. Apply K-means on the new dataset and plot the results"
   ]
  },
  {
   "cell_type": "code",
   "execution_count": null,
   "metadata": {
    "colab": {},
    "colab_type": "code",
    "id": "yGNcRgsMnG16"
   },
   "outputs": [],
   "source": [
    "# write code here"
   ]
  },
  {
   "cell_type": "markdown",
   "metadata": {
    "colab_type": "text",
    "id": "WhrzyU-yoWKo"
   },
   "source": [
    "### 5. Calculate $B(C)$ (between clusters distance)"
   ]
  },
  {
   "cell_type": "code",
   "execution_count": null,
   "metadata": {
    "colab": {},
    "colab_type": "code",
    "id": "S7DbHYPksc72"
   },
   "outputs": [],
   "source": [
    "def calculate_bc(points, assignments):\n",
    "    # write code here\n",
    "    pass\n",
    "\n",
    "print(calculate_bc(testset.data, kmeans.labels_))"
   ]
  },
  {
   "cell_type": "markdown",
   "metadata": {
    "colab_type": "text",
    "id": "T_5IdNCPpA9Q"
   },
   "source": [
    "### 6. Calculate $W(C)$ (within cluster distance)"
   ]
  },
  {
   "cell_type": "code",
   "execution_count": null,
   "metadata": {
    "colab": {},
    "colab_type": "code",
    "id": "qZ7AaL0asuMZ"
   },
   "outputs": [],
   "source": [
    "def calculate_wc(points, assignments):\n",
    "    # write code here\n",
    "    pass\n",
    "\n",
    "print(calculate_wc(testset.data, kmeans.labels_))"
   ]
  },
  {
   "cell_type": "markdown",
   "metadata": {
    "colab_type": "text",
    "id": "2pG-krxcs8WY"
   },
   "source": [
    "### 7. Calculate the best parameters for the DBSCAN at exercise 2 using either $W(C)$ or $B(C)$ metric"
   ]
  },
  {
   "cell_type": "code",
   "execution_count": null,
   "metadata": {
    "colab": {},
    "colab_type": "code",
    "id": "O4218rs6s7S0"
   },
   "outputs": [],
   "source": [
    "# write code here"
   ]
  },
  {
   "cell_type": "markdown",
   "metadata": {
    "colab_type": "text",
    "id": "2_S9Z8xFvSI9"
   },
   "source": [
    "## FIN"
   ]
  }
 ],
 "metadata": {
  "colab": {
   "collapsed_sections": [
    "tvRPi9KYWvOB"
   ],
   "name": "kmeans_dbscan.ipynb",
   "provenance": []
  },
  "kernelspec": {
   "display_name": "PML",
   "language": "python",
   "name": "pml"
  },
  "language_info": {
   "codemirror_mode": {
    "name": "ipython",
    "version": 3
   },
   "file_extension": ".py",
   "mimetype": "text/x-python",
   "name": "python",
   "nbconvert_exporter": "python",
   "pygments_lexer": "ipython3",
   "version": "3.7.6"
  }
 },
 "nbformat": 4,
 "nbformat_minor": 1
}

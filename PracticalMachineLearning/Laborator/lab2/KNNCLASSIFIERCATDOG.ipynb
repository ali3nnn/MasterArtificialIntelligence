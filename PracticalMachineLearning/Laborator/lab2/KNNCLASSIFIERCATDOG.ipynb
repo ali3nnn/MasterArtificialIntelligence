{
 "cells": [
  {
   "cell_type": "code",
   "execution_count": 1,
   "metadata": {},
   "outputs": [],
   "source": [
    "from skimage.transform import resize\n",
    "from skimage.color import rgb2gray\n",
    "import numpy as np\n",
    "from skimage import io\n",
    "import matplotlib.pyplot as plt"
   ]
  },
  {
   "cell_type": "code",
   "execution_count": 2,
   "metadata": {},
   "outputs": [
    {
     "name": "stdout",
     "output_type": "stream",
     "text": [
      "train_images shape:  (200, 40000)   train_labels shape:  (200,)\n",
      "test_images shape:  (22, 40000)   test_labels shape:  (22,)\n"
     ]
    }
   ],
   "source": [
    "# Get the first 100 images of cat and dog to train\n",
    "x = []\n",
    "y = []\n",
    "for i in range(1,101):\n",
    "    cat = rgb2gray(resize(io.imread('/home/alex/Desktop/Master/ProiectPML/Dog-Cat-Classifier/Data/Train_Data/cat/cat.{}.jpg'.format(i)), (200,200)))\n",
    "    x.append(cat.flatten())\n",
    "    y.append(0)\n",
    "\n",
    "for i in range(1,101):\n",
    "    dog = rgb2gray(resize(io.imread('/home/alex/Desktop/Master/ProiectPML/Dog-Cat-Classifier/Data/Train_Data/dog/dog.{}.jpg'.format(i)), (200,200)))\n",
    "    x.append(dog.flatten())\n",
    "    y.append(1)\n",
    "\n",
    "x, y = np.asarray(x), np.asarray(y) \n",
    "\n",
    "train_images = x;\n",
    "train_labels = y;\n",
    "\n",
    "print('train_images shape: ', train_images.shape, '  train_labels shape: ', train_labels.shape)\n",
    "\n",
    "# Get the first 11 images of cat and dog to test\n",
    "x_test = []\n",
    "y_test = []\n",
    "for i in range(102,113):\n",
    "    cat = rgb2gray(resize(io.imread('/home/alex/Desktop/Master/ProiectPML/Dog-Cat-Classifier/Data/Train_Data/cat/cat.{}.jpg'.format(i)), (200,200)))\n",
    "    x_test.append(cat.flatten())\n",
    "    y_test.append(0)\n",
    "\n",
    "for i in range(102,113):\n",
    "    dog = rgb2gray(resize(io.imread('/home/alex/Desktop/Master/ProiectPML/Dog-Cat-Classifier/Data/Train_Data/dog/dog.{}.jpg'.format(i)), (200,200)))\n",
    "    x_test.append(dog.flatten())\n",
    "    y_test.append(1)\n",
    "\n",
    "x_test, y_test = np.asarray(x_test), np.asarray(y_test) \n",
    "\n",
    "test_images = x_test;\n",
    "test_labels = y_test;\n",
    "\n",
    "print('test_images shape: ', test_images.shape, '  test_labels shape: ', test_labels.shape)"
   ]
  },
  {
   "cell_type": "code",
   "execution_count": 3,
   "metadata": {},
   "outputs": [],
   "source": [
    "class Knn_classifier:\n",
    "    \n",
    "    def __init__(self, train_images, train_labels):\n",
    "        self.train_images = train_images\n",
    "        self.train_labels = train_labels\n",
    "    \n",
    "    # a. Write the classify_image(self, test_image, num_neighbors=3, metric='l2') function in order to classify 'test_image'\n",
    "    # example using the k-NN method with 'num_neighbors' neighbors and 'metric' distance.\n",
    "    def classify_image(self, test_image, num_neighbors=3, metric='l2'):\n",
    "        # write your code here\n",
    "        if metric == 'l2':\n",
    "            distance = np.sqrt(np.sum(((self.train_images - test_image) ** 2), axis=1))\n",
    "        else:\n",
    "            distance = np.sqrt(abs((self.train_images - test_image ** 2)), axis=1)\n",
    "        \n",
    "        sorted_idx = np.argsort(distance)\n",
    "        nearest_idx = sorted_idx[:num_neighbors]\n",
    "        nearest_labels = self.train_labels[nearest_idx]\n",
    "        histc = np.bincount(nearest_labels)\n",
    "        return np.argmax(histc)\n",
    "    \n",
    "    # b. Write the classify_images(self, test_images, num_neighbors=3, metric='l2') function in order to predict the labels of \n",
    "    # the test images.\n",
    "    def classify_images(self, test_images, num_neighbors, metric='l2'):\n",
    "        # write your code here\n",
    "        num_test_example = test_images.shape[0]\n",
    "        predictions = []\n",
    "        for i in range(num_test_example):\n",
    "            pred_label = self.classify_image(test_images[i],num_neighbors, metric)\n",
    "            predictions.append(pred_label)\n",
    "        return np.array(predictions)\n",
    "        pass\n",
    "    \n",
    "    # c. Define a function to compute the accurracy score given the predicted labels and the ground-truth labels.\n",
    "    def accuracy_score(self, y_true, y_pred):\n",
    "        # write your code here\n",
    "        return np.mean(y_true == y_pred).mean()\n",
    "        pass"
   ]
  },
  {
   "cell_type": "code",
   "execution_count": 4,
   "metadata": {},
   "outputs": [
    {
     "name": "stdout",
     "output_type": "stream",
     "text": [
      "0.6818181818181818\n"
     ]
    }
   ],
   "source": [
    "num_neighbors = 1\n",
    "\n",
    "knn_classifier = Knn_classifier(train_images, train_labels)\n",
    "predicted_labels = knn_classifier.classify_images(test_images, num_neighbors)\n",
    "print(knn_classifier.accuracy_score(test_labels, predicted_labels))"
   ]
  },
  {
   "cell_type": "code",
   "execution_count": 5,
   "metadata": {},
   "outputs": [],
   "source": [
    "# write your code here\n",
    "# find number of classes\n",
    "# def confusion_matrix(y_true, y_pred):\n",
    "#     num_classes = y_true.max() + 1\n",
    "#     conf_matrix = np.zeros((num_classes),(num_classes))\n",
    "# #     print(y_true.shape[0])\n",
    "# #     for i in range(2):\n",
    "#     conf_matrix[y_true[1], y_pred[1]]\n",
    "# #     y_pred[1] = y_pred[1] + 1\n",
    "#     return conf_matrix"
   ]
  },
  {
   "cell_type": "code",
   "execution_count": 7,
   "metadata": {},
   "outputs": [
    {
     "data": {
      "text/plain": [
       "array([[7, 4],\n",
       "       [3, 8]])"
      ]
     },
     "execution_count": 7,
     "metadata": {},
     "output_type": "execute_result"
    }
   ],
   "source": [
    "# confusion_matrix(test_labels,predicted_labels)\n",
    "\n",
    "from sklearn.metrics import confusion_matrix\n",
    "confusion_matrix(test_labels, predicted_labels)"
   ]
  },
  {
   "cell_type": "code",
   "execution_count": null,
   "metadata": {},
   "outputs": [],
   "source": []
  }
 ],
 "metadata": {
  "kernelspec": {
   "display_name": "PML enviroment3",
   "language": "python",
   "name": "practicalml"
  },
  "language_info": {
   "codemirror_mode": {
    "name": "ipython",
    "version": 3
   },
   "file_extension": ".py",
   "mimetype": "text/x-python",
   "name": "python",
   "nbconvert_exporter": "python",
   "pygments_lexer": "ipython3",
   "version": "3.7.5"
  }
 },
 "nbformat": 4,
 "nbformat_minor": 2
}

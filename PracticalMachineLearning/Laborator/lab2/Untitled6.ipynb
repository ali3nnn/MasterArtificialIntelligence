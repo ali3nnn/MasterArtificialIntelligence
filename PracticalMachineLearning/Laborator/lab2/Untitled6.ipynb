{
 "cells": [
  {
   "cell_type": "code",
   "execution_count": 1,
   "metadata": {},
   "outputs": [],
   "source": [
    "import os\n",
    "impro"
   ]
  },
  {
   "cell_type": "code",
   "execution_count": 2,
   "metadata": {},
   "outputs": [
    {
     "data": {
      "text/plain": [
       "['/home/alex/Desktop/MasterGIT/MasterArtificialIntelligence/PracticalMachineLearning/Laborator/lab2',\n",
       " '/home/alex/anaconda3/lib/python37.zip',\n",
       " '/home/alex/anaconda3/lib/python3.7',\n",
       " '/home/alex/anaconda3/lib/python3.7/lib-dynload',\n",
       " '',\n",
       " '/home/alex/anaconda3/lib/python3.7/site-packages',\n",
       " '/home/alex/anaconda3/lib/python3.7/site-packages/IPython/extensions',\n",
       " '/home/alex/.ipython']"
      ]
     },
     "execution_count": 2,
     "metadata": {},
     "output_type": "execute_result"
    }
   ],
   "source": [
    "\n",
    "os.sys.path"
   ]
  },
  {
   "cell_type": "code",
   "execution_count": null,
   "metadata": {},
   "outputs": [],
   "source": []
  }
 ],
 "metadata": {
  "kernelspec": {
   "display_name": "Python 3",
   "language": "python",
   "name": "python3"
  },
  "language_info": {
   "codemirror_mode": {
    "name": "ipython",
    "version": 3
   },
   "file_extension": ".py",
   "mimetype": "text/x-python",
   "name": "python",
   "nbconvert_exporter": "python",
   "pygments_lexer": "ipython3",
   "version": "3.7.1"
  }
 },
 "nbformat": 4,
 "nbformat_minor": 2
}
